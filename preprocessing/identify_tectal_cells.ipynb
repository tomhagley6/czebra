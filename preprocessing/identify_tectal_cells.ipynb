{
 "cells": [
  {
   "cell_type": "markdown",
   "metadata": {},
   "source": [
    "### For a given subset of ROI indexes from the full dataset, identify which cells belong to the tectal mask"
   ]
  },
  {
   "cell_type": "code",
   "execution_count": 87,
   "metadata": {},
   "outputs": [],
   "source": [
    "import cebra\n",
    "import numpy as np\n",
    "import h5py"
   ]
  },
  {
   "cell_type": "code",
   "execution_count": 88,
   "metadata": {},
   "outputs": [],
   "source": [
    "## load data ##\n",
    "\n",
    "\n",
    "# experimental datasets: \n",
    "dat_files = ['/media/storage/DATA/lfads_export/f1_221027.h5',\n",
    "             '/media/storage/DATA/lfads_export/f1_221103.h5',\n",
    "             '/media/storage/DATA/lfads_export/f2_221103.h5',\n",
    "             '/media/storage/DATA/lfads_export/f3_221103.h5']\n",
    "\n",
    "# params\n",
    "filepath = dat_files[1]\n",
    "filename = filepath.split('/')[-1][:-3] # fish and date only\n",
    "data_folder = '/home/tomh/Documents/projects/czebra/test_notebooks/data/'\n",
    "filename_deconv_subset = f'{filename[-9:]}_deconv_subset_tectal.npz'\n",
    "filename_neural_indexes = f'{filename[-9:]}_neural_indexes_tectal.npz'\n",
    "\n",
    "# load\n",
    "roi_indexes = cebra.load_data(f'{data_folder}{filename_neural_indexes}', key=\"neural_indexes\")\n",
    "\n"
   ]
  },
  {
   "cell_type": "code",
   "execution_count": 92,
   "metadata": {},
   "outputs": [
    {
     "data": {
      "text/plain": [
       "15901"
      ]
     },
     "execution_count": 92,
     "metadata": {},
     "output_type": "execute_result"
    }
   ],
   "source": [
    "## load tectal mask\n",
    "with h5py.File(filepath, 'r') as f:\n",
    "    tectal_mask = f['rois']['anat_label']['tectum_SPV_AZ'][:]\n",
    "\n",
    "tectal_mask.sum()"
   ]
  },
  {
   "cell_type": "code",
   "execution_count": 49,
   "metadata": {},
   "outputs": [],
   "source": [
    "# find values\n",
    "total_rois = tectal_mask.size\n",
    "of_which_tectal = tectal_mask.sum()\n",
    "proportion_tectal = of_which_tectal/total_rois\n",
    "roi_subset_size = 10000\n",
    "\n",
    "# calculated expected number of tectal cells\n",
    "expected_tectal_cells = proportion_tectal*roi_subset_size\n",
    "expected_tectal_cells = int(np.ceil(expected_tectal_cells))"
   ]
  },
  {
   "cell_type": "code",
   "execution_count": 36,
   "metadata": {},
   "outputs": [],
   "source": [
    "# convert roi indexes to binary mask\n",
    "roi_indexes_mask = np.zeros(total_rois).astype(int)\n",
    "np.put(roi_indexes_mask, roi_indexes, [1])"
   ]
  },
  {
   "cell_type": "code",
   "execution_count": 50,
   "metadata": {},
   "outputs": [],
   "source": [
    "## cross-reference roi indexes and tectal mask\n",
    "cross_ref = np.bitwise_and(roi_indexes_mask, tectal_mask)\n",
    "actual_tectal_cells = cross_ref.sum()\n"
   ]
  },
  {
   "cell_type": "code",
   "execution_count": 53,
   "metadata": {},
   "outputs": [
    {
     "name": "stdout",
     "output_type": "stream",
     "text": [
      "Actual number of tectal rois in the dataset of size 101435 is: 15901\n",
      "Expected number of tectal rois in a random subset of 10000: 1568\n",
      "Actual number of tectal rois in the random subset of 10000: 1555\n"
     ]
    }
   ],
   "source": [
    "# print comparison\n",
    "print(f\"Actual number of tectal rois in the dataset of size {total_rois} is: {of_which_tectal}\\n\"+\n",
    "      f\"Expected number of tectal rois in a random subset of {roi_subset_size}: {expected_tectal_cells}\\n\" +\n",
    "      f\"Actual number of tectal rois in the random subset of {roi_subset_size}: {actual_tectal_cells}\")"
   ]
  },
  {
   "cell_type": "code",
   "execution_count": 86,
   "metadata": {},
   "outputs": [
    {
     "data": {
      "text/plain": [
       "array([   1,    3,   26, 1817, 1821, 1834, 1844, 1848, 1854, 1855, 1863,\n",
       "       1870, 1873, 1876, 1880, 1886, 1896, 1902, 1919, 1926, 1937, 4710,\n",
       "       4720, 4724, 4725, 4754, 4761, 4768, 4777, 4782, 4791, 4793, 4802,\n",
       "       4807, 4814, 4819, 4820, 4828, 4829, 4830, 4834, 4837, 4841, 4846,\n",
       "       4847, 4849, 4852, 4854, 4859, 4861])"
      ]
     },
     "execution_count": 86,
     "metadata": {},
     "output_type": "execute_result"
    }
   ],
   "source": [
    "# code to choose a random subset of tectal roi indexes\n",
    "neural_indexes = np.sort(\n",
    "                        np.random.choice(\n",
    "                                        np.where(tectal_mask)[0], roi_subset_size, replace=False\n",
    "                                        )\n",
    "                        )\n",
    "\n",
    "neural_indexes[:50]"
   ]
  }
 ],
 "metadata": {
  "kernelspec": {
   "display_name": "czebra",
   "language": "python",
   "name": "python3"
  },
  "language_info": {
   "codemirror_mode": {
    "name": "ipython",
    "version": 3
   },
   "file_extension": ".py",
   "mimetype": "text/x-python",
   "name": "python",
   "nbconvert_exporter": "python",
   "pygments_lexer": "ipython3",
   "version": "3.8.0"
  },
  "orig_nbformat": 4
 },
 "nbformat": 4,
 "nbformat_minor": 2
}
