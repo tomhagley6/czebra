{
 "cells": [
  {
   "cell_type": "markdown",
   "metadata": {},
   "source": [
    "# Small snippets of code, mainly for understanding programming concepts"
   ]
  },
  {
   "cell_type": "markdown",
   "metadata": {},
   "source": [
    "### Bitwise XOR operations"
   ]
  },
  {
   "cell_type": "code",
   "execution_count": 3,
   "metadata": {},
   "outputs": [],
   "source": [
    "import numpy as np\n",
    "import h5py"
   ]
  },
  {
   "cell_type": "code",
   "execution_count": 4,
   "metadata": {},
   "outputs": [
    {
     "data": {
      "text/plain": [
       "array([5, 0, 0, 5])"
      ]
     },
     "execution_count": 4,
     "metadata": {},
     "output_type": "execute_result"
    }
   ],
   "source": [
    "a = [1,1,1,1]\n",
    "b = [4,1,1,4]\n",
    "np.bitwise_xor(a,b)"
   ]
  },
  {
   "cell_type": "code",
   "execution_count": 5,
   "metadata": {},
   "outputs": [],
   "source": [
    "# variables for next cell\n",
    "\n",
    "filepath = '/media/storage/DATA/lfads_export/f1_221027.h5'\n",
    "with h5py.File(filepath, 'r') as f:\n",
    "\n",
    "    # get stimulus presentations\n",
    "    stimuli = f['visuomotor']['presentations']\n",
    "    stim_type = stimuli['stim_type'].astype(int)\n",
    "\n",
    "    # find the presentation indexes with left or right spots\n",
    "    stim_pres_idx_l = np.where(np.isin(stim_type, 1))[0]    # left spots\n",
    "    stim_pres_idx_r = np.where(np.isin(stim_type, 2))[0]    # right spots\n",
    "\n",
    "    # index stim onset frames with the presentation indexes\n",
    "    stim_onset_fr = stimuli['onset_frame'].astype(int)\n",
    "    stim_pres_fr_l = stim_onset_fr[stim_pres_idx_l]\n",
    "    stim_pres_fr_r = stim_onset_fr[stim_pres_idx_r]\n",
    "\n",
    "    # index stim end frames with the presentation indexes\n",
    "    stim_end_fr = stimuli['offset_frame'].astype(int)\n",
    "    stim_end_fr_l = stim_end_fr[stim_pres_idx_l]\n",
    "    stim_end_fr_r = stim_end_fr[stim_pres_idx_r]"
   ]
  },
  {
   "cell_type": "code",
   "execution_count": 12,
   "metadata": {},
   "outputs": [
    {
     "name": "stdout",
     "output_type": "stream",
     "text": [
      "[0 0 0 0 0 1 0 0 0 0 0 0 0 0 0 0 0 0 0 0 0 0 0 0 0 0 1 0 0 0 0 0]\n"
     ]
    },
    {
     "data": {
      "text/plain": [
       "array([0, 0, 0, 0, 0, 1, 1, 1, 1, 1, 1, 1, 1, 1, 1, 1, 1, 1, 1, 1, 1, 1,\n",
       "       1, 1, 1, 1, 1, 0, 0, 0, 0, 0])"
      ]
     },
     "execution_count": 12,
     "metadata": {},
     "output_type": "execute_result"
    }
   ],
   "source": [
    "a = np.zeros((100000,)).astype(int)\n",
    "a[[stim_pres_fr_l.astype(int), stim_end_fr_l.astype(int)]] = 1\n",
    "print(a[793:825])\n",
    "a = np.bitwise_xor.accumulate(a) | a\n",
    "a[793:825]\n"
   ]
  },
  {
   "cell_type": "code",
   "execution_count": 7,
   "metadata": {},
   "outputs": [
    {
     "data": {
      "text/plain": [
       "array([1, 1, 1, 1])"
      ]
     },
     "execution_count": 7,
     "metadata": {},
     "output_type": "execute_result"
    }
   ],
   "source": [
    "a = np.array([1,1,1,1])\n",
    "b = np.array([4,1,1,4])\n",
    "np.bitwise_xor.accumulate(a)|a"
   ]
  },
  {
   "cell_type": "markdown",
   "metadata": {},
   "source": [
    "### Column stack"
   ]
  },
  {
   "cell_type": "code",
   "execution_count": null,
   "metadata": {},
   "outputs": [],
   "source": [
    "# remember to create an array containing both variables\n",
    "post_left_spot = np.arange(3)\n",
    "post_right_spot = np.arange(3)\n",
    "post_spot = np.column_stack([post_left_spot, post_right_spot])\n",
    "post_spot.shape"
   ]
  },
  {
   "cell_type": "markdown",
   "metadata": {},
   "source": [
    "### Add and multiply"
   ]
  },
  {
   "cell_type": "code",
   "execution_count": 1,
   "metadata": {},
   "outputs": [
    {
     "data": {
      "text/plain": [
       "array([1, 1, 0, 2, 0, 1, 1])"
      ]
     },
     "execution_count": 1,
     "metadata": {},
     "output_type": "execute_result"
    }
   ],
   "source": [
    "import numpy as np\n",
    "\n",
    "a = [0,0,0,1,0,0,0]\n",
    "b = [1,1,0,0,0,1,1]\n",
    "a = np.multiply(a,2)\n",
    "np.add(a,b)\n",
    "\n"
   ]
  },
  {
   "cell_type": "markdown",
   "metadata": {},
   "source": [
    "### Looking at stimulus on mask"
   ]
  },
  {
   "cell_type": "code",
   "execution_count": null,
   "metadata": {},
   "outputs": [],
   "source": [
    "np.where(np.isin(right_spot, 2))\n",
    "discrete[1555:1590]"
   ]
  }
 ],
 "metadata": {
  "kernelspec": {
   "display_name": "czebra",
   "language": "python",
   "name": "python3"
  },
  "language_info": {
   "codemirror_mode": {
    "name": "ipython",
    "version": 3
   },
   "file_extension": ".py",
   "mimetype": "text/x-python",
   "name": "python",
   "nbconvert_exporter": "python",
   "pygments_lexer": "ipython3",
   "version": "3.8.0"
  },
  "orig_nbformat": 4
 },
 "nbformat": 4,
 "nbformat_minor": 2
}
