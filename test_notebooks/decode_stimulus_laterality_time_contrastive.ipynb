{
 "cells": [
  {
   "cell_type": "markdown",
   "metadata": {},
   "source": [
    "## Test SPIM data CEBRA model\n",
    "\n",
    "- Use CEBRA time contrastive learning on neural data from one fish\n",
    "    - design model\n",
    "    - convert SPIM data to usable format \n",
    "    - load data\n",
    "    - fit\n",
    "    - plot embeddings\n",
    "    - try to decode stimulus type (left/right spots)\n",
    "        - create a discrete variable that labels the peri-stimulus frames for right and left spots\n",
    "        - This should inform the decoder to separate embedding states (which should vary between left and right spots)<br/><br/>"
   ]
  },
  {
   "cell_type": "code",
   "execution_count": 2,
   "metadata": {},
   "outputs": [],
   "source": [
    "import cebra\n",
    "import numpy as np\n",
    "import matplotlib.pyplot as plt\n",
    "import os"
   ]
  },
  {
   "cell_type": "code",
   "execution_count": 7,
   "metadata": {},
   "outputs": [
    {
     "data": {
      "text/plain": [
       "(3, 2)"
      ]
     },
     "execution_count": 7,
     "metadata": {},
     "output_type": "execute_result"
    }
   ],
   "source": [
    "# remember to create an array containing both variables\n",
    "post_left_spot = np.arange(3)\n",
    "post_right_spot = np.arange(3)\n",
    "post_spot = np.column_stack([post_left_spot, post_right_spot])\n",
    "post_spot.shape"
   ]
  }
 ],
 "metadata": {
  "kernelspec": {
   "display_name": "cebra",
   "language": "python",
   "name": "python3"
  },
  "language_info": {
   "codemirror_mode": {
    "name": "ipython",
    "version": 3
   },
   "file_extension": ".py",
   "mimetype": "text/x-python",
   "name": "python",
   "nbconvert_exporter": "python",
   "pygments_lexer": "ipython3",
   "version": "3.8.0"
  },
  "orig_nbformat": 4
 },
 "nbformat": 4,
 "nbformat_minor": 2
}
