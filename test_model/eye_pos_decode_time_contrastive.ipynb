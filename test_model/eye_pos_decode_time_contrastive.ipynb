{
 "cells": [
  {
   "cell_type": "markdown",
   "metadata": {},
   "source": [
    "## Test SPIM data CEBRA model"
   ]
  },
  {
   "cell_type": "markdown",
   "metadata": {},
   "source": [
    "- Use CEBRA time contrastive learning on neural data from one fish, train decoder on eye position\n",
    "    - design model\n",
    "    - convert SPIM neural and data to usable format \n",
    "    - load data\n",
    "    - fit\n",
    "    - plot embeddings\n",
    "    - try to decode eye position and compare it to the ElasticNet models\n",
    "        - decoding of eye position (or tail vig) should work a lot better than stimulus response, because our discrete variables are very sparse<br/><br/>\n",
    "\n"
   ]
  },
  {
   "cell_type": "markdown",
   "metadata": {},
   "source": [
    "### Decoding eye position"
   ]
  },
  {
   "cell_type": "code",
   "execution_count": null,
   "metadata": {},
   "outputs": [],
   "source": [
    "import cebra\n",
    "import sklearn\n",
    "import numpy as np\n",
    "import matplotlib.pyplot as plt\n",
    "import h5py"
   ]
  },
  {
   "cell_type": "code",
   "execution_count": null,
   "metadata": {},
   "outputs": [],
   "source": [
    "# # gobal params\n",
    "# # global params\n",
    "\n",
    "# list of all data files\n",
    "dat_files = ['/media/storage/DATA/lfads_export/f1_221027.h5',\n",
    "             '/media/storage/DATA/lfads_export/f1_221103.h5',\n",
    "             '/media/storage/DATA/lfads_export/f2_221103.h5',\n",
    "             '/media/storage/DATA/lfads_export/f3_221103.h5']\n",
    "\n",
    "global FILENAME\n",
    "global TIMESTEPS\n",
    "global ROIS\n",
    "\n",
    "FILENAME = dat_files[0]\n",
    "TIMESTEPS = 5000\n",
    "ROIS = 10000"
   ]
  },
  {
   "cell_type": "code",
   "execution_count": null,
   "metadata": {},
   "outputs": [],
   "source": [
    "# # Define model\n",
    "import cebra\n",
    "\n",
    "cebra_time_eye_pos = cebra.CEBRA(\n",
    "    model_architecture='offset10-model',\n",
    "    device='cuda_if_available',\n",
    "    conditional='time',\n",
    "    temperature_mode='auto',\n",
    "    min_temperature=0.1,\n",
    "    time_offsets=10,\n",
    "    max_iterations=15000,\n",
    "    max_adapt_iterations=500,\n",
    "    batch_size=None,\n",
    "    learning_rate=1e-4,\n",
    "    output_dimension=3,\n",
    "    verbose=True,\n",
    "    num_hidden_units=32,\n",
    "    hybrid=False\n",
    "    )\n",
    "print(cebra_time_model)\n"
   ]
  },
  {
   "cell_type": "code",
   "execution_count": null,
   "metadata": {},
   "outputs": [],
   "source": [
    "# # Load data \n",
    "\n",
    "# for a single fish\n",
    "filename = dat_files[0]\n",
    "\n",
    "# extract eye position and neural data\n",
    "with h5py.File(filename, 'r') as f:\n",
    "\n",
    "    # eye position\n",
    "    eye_pos_l = f['visuomotor']['eye_pos']['Left']\n",
    "    eye_pos_r = f['visuomotor']['eye_pos']['Right']\n",
    "    timesteps_total = eye_pos_l.shape[0]\n",
    "\n",
    "    # neural\n",
    "    neural = f['rois']['dfof']\n",
    "    timesteps_total_neural, rois_total = neural.shape[0], neural.shape[1]\n",
    "    assert(timesteps_total_neural == timesteps_total)\n",
    "\n",
    "\n",
    "    # save datasets\n",
    "    filename_eye_pos = f'eye_pos_{filename[-12:-3]}.npz'\n",
    "    filename_dfof = f'dfof_{filename[-12:-3]}.npz'\n",
    "    np.savez(f'{filename_eye_pos}', eye_pos_l=eye_pos_l, eye_pos_r=eye_pos_r)\n",
    "    np.savez(f'{filename_dfof}', neural=dfof)\n",
    "\n",
    "\n",
    "eye_pos_l = cebra.load_data(filename_eye_pos, key=\"eye_pos_l\")\n",
    "eye_pos_r = cebra.load_data(filename_eye_pos, key=\"eye_pos_r\")\n",
    "neural = cebra.load_data(filename_dfof, key=\"neural\")\n",
    "\n"
   ]
  },
  {
   "cell_type": "code",
   "execution_count": null,
   "metadata": {},
   "outputs": [],
   "source": [
    "# # Fit model\n",
    "cebra_time_eye_pos.fit(neural, eye_pos_l, eye_pos_r)"
   ]
  },
  {
   "cell_type": "code",
   "execution_count": null,
   "metadata": {},
   "outputs": [],
   "source": [
    "# # Create and plot model output"
   ]
  },
  {
   "cell_type": "code",
   "execution_count": null,
   "metadata": {},
   "outputs": [],
   "source": [
    "# # Decode\n"
   ]
  },
  {
   "cell_type": "code",
   "execution_count": null,
   "metadata": {},
   "outputs": [],
   "source": [
    "# # decode response yes/no"
   ]
  }
 ],
 "metadata": {
  "kernelspec": {
   "display_name": "cebra",
   "language": "python",
   "name": "python3"
  },
  "language_info": {
   "name": "python",
   "version": "3.8.0"
  },
  "orig_nbformat": 4
 },
 "nbformat": 4,
 "nbformat_minor": 2
}
